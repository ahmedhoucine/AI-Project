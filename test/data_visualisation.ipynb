{
 "cells": [
  {
   "cell_type": "code",
   "execution_count": 3,
   "id": "35d5e288",
   "metadata": {},
   "outputs": [
    {
     "name": "stdout",
     "output_type": "stream",
     "text": [
      "          ID                                          Job Title  \\\n",
      "0          0  développeur full stack java  flutter confirmé ...   \n",
      "1          1       consultant devops sénior  kubernetes grafana   \n",
      "2          2  gestionnaire dapplication sénior  servicenow j...   \n",
      "3          3       data scientist confirmé  servicenow bigquery   \n",
      "4          4  développeur full stack java  vuejs gcp sénior ...   \n",
      "...      ...                                                ...   \n",
      "16463  16463                    product owner scurit api junior   \n",
      "16464  16464                         dveloppeur back javamobile   \n",
      "16465  16465  amoa souscription et gestion iard hors sinistr...   \n",
      "16466  16466                              dveloppeur full stack   \n",
      "16467  16467              ingnieure iamiga lille 3j par semaine   \n",
      "\n",
      "      Publishing Date Start Date    Salary      Duration  \\\n",
      "0          2025-02-26       asap       450       24 mois   \n",
      "1          2025-02-26       asap       500       12 mois   \n",
      "2          2025-02-26       asap       470       12 mois   \n",
      "3          2025-02-26       asap       450       24 mois   \n",
      "4          2025-02-26       asap       450       24 mois   \n",
      "...               ...        ...       ...           ...   \n",
      "16463      23/01/2025       asap      350   non spécifié   \n",
      "16464      23/01/2025       asap  300-450   non spécifié   \n",
      "16465      23/01/2025       asap  400-600        12 mois   \n",
      "16466      23/01/2025       asap  300-400   non spécifié   \n",
      "16467      23/01/2025       asap      550        12 mois   \n",
      "\n",
      "                       Location            Work Mode  \\\n",
      "0                         lille         non spécifié   \n",
      "1                         lille         non spécifié   \n",
      "2                         lille         non spécifié   \n",
      "3                         lille         non spécifié   \n",
      "4                         lille         non spécifié   \n",
      "...                         ...                  ...   \n",
      "16463  vincennes, île-de-france         non spécifié   \n",
      "16464    lille, hauts-de-france  télétravail partiel   \n",
      "16465             paris, france  télétravail partiel   \n",
      "16466    lille, hauts-de-france  télétravail partiel   \n",
      "16467    lille, hauts-de-france  télétravail partiel   \n",
      "\n",
      "                                                  Skills  \\\n",
      "0                         java, flutter, kubernetes, tdd   \n",
      "1                           kubernetes, grafana, datadog   \n",
      "2                                 servicenow, javascript   \n",
      "3               servicenow, bigquery, data visualization   \n",
      "4                                      java, vue.js, gcp   \n",
      "...                                                  ...   \n",
      "16463                          api, ci/cd, red hat linux   \n",
      "16464                                      flutter, java   \n",
      "16465  méthode agile, spécifications fonctionnelles d...   \n",
      "16466                             javascript, typescript   \n",
      "16467                                                iam   \n",
      "\n",
      "                                             Description  ...  \\\n",
      "0      nous sommes é la recherche dun développeur ful...  ...   \n",
      "1      nou sommes é la recherche din consultant devop...  ...   \n",
      "2      nous sommes é la recherche dun gestionnaire da...  ...   \n",
      "3      nous sommes é la recherche dun data scientist ...  ...   \n",
      "4      nous sommes é la recherche dun développeur ful...  ...   \n",
      "...                                                  ...  ...   \n",
      "16463  le centre d'expertise api dispose d'une équipe...  ...   \n",
      "16464  basée à lille, lyon, nantes, grenoble et bruxe...  ...   \n",
      "16465  je suis à la recherche pour un de nos clients ...  ...   \n",
      "16466  basée à lille, lyon, nantes, grenoble et bruxe...  ...   \n",
      "16467  en quelques mots\\ncherry pick est à la recherc...  ...   \n",
      "\n",
      "             Company Name Number of Candidates Number of Employees  \\\n",
      "0            non spécifié         non spécifié        non spécifié   \n",
      "1            non spécifié         non spécifié        non spécifié   \n",
      "2            non spécifié         non spécifié        non spécifié   \n",
      "3            non spécifié         non spécifié        non spécifié   \n",
      "4            non spécifié         non spécifié        non spécifié   \n",
      "...                   ...                  ...                 ...   \n",
      "16463               ava2i         non spécifié        non spécifié   \n",
      "16464  insitoo freelances         non spécifié        non spécifié   \n",
      "16465          cat-amania         non spécifié        non spécifié   \n",
      "16466  insitoo freelances         non spécifié        non spécifié   \n",
      "16467         cherry pick         non spécifié        non spécifié   \n",
      "\n",
      "             Sector Description E    Experience   Contract Type     Education  \\\n",
      "0      non spécifié  non spécifié  non spécifié    non spécifié  non spécifié   \n",
      "1      non spécifié  non spécifié  non spécifié    non spécifié  non spécifié   \n",
      "2      non spécifié  non spécifié  non spécifié    non spécifié  non spécifié   \n",
      "3      non spécifié  non spécifié  non spécifié    non spécifié  non spécifié   \n",
      "4      non spécifié  non spécifié  non spécifié    non spécifié  non spécifié   \n",
      "...             ...           ...           ...             ...           ...   \n",
      "16463  non spécifié  non spécifié         2 - 5  cdi, freelance  non spécifié   \n",
      "16464  non spécifié  non spécifié        5 - 10       freelance  non spécifié   \n",
      "16465  non spécifié  non spécifié        5 - 10       freelance  non spécifié   \n",
      "16466  non spécifié  non spécifié         2 - 5       freelance  non spécifié   \n",
      "16467  non spécifié  non spécifié        5 - 10       freelance  non spécifié   \n",
      "\n",
      "      scrap_date_parsed estm_publishdate  \n",
      "0            2025-02-26       2025-02-26  \n",
      "1            2025-02-26       2025-02-26  \n",
      "2            2025-02-26       2025-02-26  \n",
      "3            2025-02-26       2025-02-26  \n",
      "4            2025-02-26       2025-02-26  \n",
      "...                 ...              ...  \n",
      "16463        2025-03-07       2025-01-23  \n",
      "16464        2025-03-07       2025-01-23  \n",
      "16465        2025-03-07       2025-01-23  \n",
      "16466        2025-03-07       2025-01-23  \n",
      "16467        2025-03-07       2025-01-23  \n",
      "\n",
      "[16468 rows x 22 columns]\n"
     ]
    }
   ],
   "source": [
    "import pandas as pd\n",
    "import numpy as np\n",
    "from datetime import datetime\n",
    "from sklearn.preprocessing import StandardScaler, OneHotEncoder\n",
    "from sklearn.feature_extraction.text import TfidfVectorizer\n",
    "from sklearn.decomposition import PCA\n",
    "from sklearn.cluster import KMeans, DBSCAN\n",
    "from sklearn.metrics import silhouette_score\n",
    "import matplotlib.pyplot as plt\n",
    "import re\n",
    "\n",
    "import pandas as pd\n",
    "\n",
    "\n",
    "data = pd.read_csv(\"data.csv\")\n",
    "print(data)"
   ]
  },
  {
   "cell_type": "code",
   "execution_count": 4,
   "id": "e7994055",
   "metadata": {},
   "outputs": [],
   "source": [
    "import matplotlib as mpl\n",
    "import matplotlib.pyplot as plt\n",
    "import os\n",
    "# Where to save the figures\n",
    "PROJECT_ROOT_DIR = \".\"\n",
    "CHAPTER_ID = \"end_to_end_project\"\n",
    "IMAGES_PATH = os.path.join(PROJECT_ROOT_DIR, \"images\", CHAPTER_ID)\n",
    "os.makedirs(IMAGES_PATH, exist_ok=True)\n",
    "\n",
    "def save_fig(fig_id, tight_layout=True, fig_extension=\"png\", resolution=300):\n",
    "    path = os.path.join(IMAGES_PATH, fig_id + \".\" + fig_extension)\n",
    "    print(\"Saving figure\", fig_id)\n",
    "    if tight_layout:\n",
    "        plt.tight_layout()\n",
    "    plt.savefig(path, format=fig_extension, dpi=resolution)"
   ]
  },
  {
   "cell_type": "code",
   "execution_count": 5,
   "id": "a507cbf6",
   "metadata": {},
   "outputs": [
    {
     "data": {
      "text/html": [
       "<div>\n",
       "<style scoped>\n",
       "    .dataframe tbody tr th:only-of-type {\n",
       "        vertical-align: middle;\n",
       "    }\n",
       "\n",
       "    .dataframe tbody tr th {\n",
       "        vertical-align: top;\n",
       "    }\n",
       "\n",
       "    .dataframe thead th {\n",
       "        text-align: right;\n",
       "    }\n",
       "</style>\n",
       "<table border=\"1\" class=\"dataframe\">\n",
       "  <thead>\n",
       "    <tr style=\"text-align: right;\">\n",
       "      <th></th>\n",
       "      <th>ID</th>\n",
       "      <th>Job Title</th>\n",
       "      <th>Publishing Date</th>\n",
       "      <th>Start Date</th>\n",
       "      <th>Salary</th>\n",
       "      <th>Duration</th>\n",
       "      <th>Location</th>\n",
       "      <th>Work Mode</th>\n",
       "      <th>Skills</th>\n",
       "      <th>Description</th>\n",
       "      <th>...</th>\n",
       "      <th>Company Name</th>\n",
       "      <th>Number of Candidates</th>\n",
       "      <th>Number of Employees</th>\n",
       "      <th>Sector</th>\n",
       "      <th>Description E</th>\n",
       "      <th>Experience</th>\n",
       "      <th>Contract Type</th>\n",
       "      <th>Education</th>\n",
       "      <th>scrap_date_parsed</th>\n",
       "      <th>estm_publishdate</th>\n",
       "    </tr>\n",
       "  </thead>\n",
       "  <tbody>\n",
       "    <tr>\n",
       "      <th>0</th>\n",
       "      <td>0</td>\n",
       "      <td>développeur full stack java  flutter confirmé ...</td>\n",
       "      <td>2025-02-26</td>\n",
       "      <td>asap</td>\n",
       "      <td>450</td>\n",
       "      <td>24 mois</td>\n",
       "      <td>lille</td>\n",
       "      <td>non spécifié</td>\n",
       "      <td>java, flutter, kubernetes, tdd</td>\n",
       "      <td>nous sommes é la recherche dun développeur ful...</td>\n",
       "      <td>...</td>\n",
       "      <td>non spécifié</td>\n",
       "      <td>non spécifié</td>\n",
       "      <td>non spécifié</td>\n",
       "      <td>non spécifié</td>\n",
       "      <td>non spécifié</td>\n",
       "      <td>non spécifié</td>\n",
       "      <td>non spécifié</td>\n",
       "      <td>non spécifié</td>\n",
       "      <td>2025-02-26</td>\n",
       "      <td>2025-02-26</td>\n",
       "    </tr>\n",
       "    <tr>\n",
       "      <th>1</th>\n",
       "      <td>1</td>\n",
       "      <td>consultant devops sénior  kubernetes grafana</td>\n",
       "      <td>2025-02-26</td>\n",
       "      <td>asap</td>\n",
       "      <td>500</td>\n",
       "      <td>12 mois</td>\n",
       "      <td>lille</td>\n",
       "      <td>non spécifié</td>\n",
       "      <td>kubernetes, grafana, datadog</td>\n",
       "      <td>nou sommes é la recherche din consultant devop...</td>\n",
       "      <td>...</td>\n",
       "      <td>non spécifié</td>\n",
       "      <td>non spécifié</td>\n",
       "      <td>non spécifié</td>\n",
       "      <td>non spécifié</td>\n",
       "      <td>non spécifié</td>\n",
       "      <td>non spécifié</td>\n",
       "      <td>non spécifié</td>\n",
       "      <td>non spécifié</td>\n",
       "      <td>2025-02-26</td>\n",
       "      <td>2025-02-26</td>\n",
       "    </tr>\n",
       "    <tr>\n",
       "      <th>2</th>\n",
       "      <td>2</td>\n",
       "      <td>gestionnaire dapplication sénior  servicenow j...</td>\n",
       "      <td>2025-02-26</td>\n",
       "      <td>asap</td>\n",
       "      <td>470</td>\n",
       "      <td>12 mois</td>\n",
       "      <td>lille</td>\n",
       "      <td>non spécifié</td>\n",
       "      <td>servicenow, javascript</td>\n",
       "      <td>nous sommes é la recherche dun gestionnaire da...</td>\n",
       "      <td>...</td>\n",
       "      <td>non spécifié</td>\n",
       "      <td>non spécifié</td>\n",
       "      <td>non spécifié</td>\n",
       "      <td>non spécifié</td>\n",
       "      <td>non spécifié</td>\n",
       "      <td>non spécifié</td>\n",
       "      <td>non spécifié</td>\n",
       "      <td>non spécifié</td>\n",
       "      <td>2025-02-26</td>\n",
       "      <td>2025-02-26</td>\n",
       "    </tr>\n",
       "    <tr>\n",
       "      <th>3</th>\n",
       "      <td>3</td>\n",
       "      <td>data scientist confirmé  servicenow bigquery</td>\n",
       "      <td>2025-02-26</td>\n",
       "      <td>asap</td>\n",
       "      <td>450</td>\n",
       "      <td>24 mois</td>\n",
       "      <td>lille</td>\n",
       "      <td>non spécifié</td>\n",
       "      <td>servicenow, bigquery, data visualization</td>\n",
       "      <td>nous sommes é la recherche dun data scientist ...</td>\n",
       "      <td>...</td>\n",
       "      <td>non spécifié</td>\n",
       "      <td>non spécifié</td>\n",
       "      <td>non spécifié</td>\n",
       "      <td>non spécifié</td>\n",
       "      <td>non spécifié</td>\n",
       "      <td>non spécifié</td>\n",
       "      <td>non spécifié</td>\n",
       "      <td>non spécifié</td>\n",
       "      <td>2025-02-26</td>\n",
       "      <td>2025-02-26</td>\n",
       "    </tr>\n",
       "    <tr>\n",
       "      <th>4</th>\n",
       "      <td>4</td>\n",
       "      <td>développeur full stack java  vuejs gcp sénior ...</td>\n",
       "      <td>2025-02-26</td>\n",
       "      <td>asap</td>\n",
       "      <td>450</td>\n",
       "      <td>24 mois</td>\n",
       "      <td>lille</td>\n",
       "      <td>non spécifié</td>\n",
       "      <td>java, vue.js, gcp</td>\n",
       "      <td>nous sommes é la recherche dun développeur ful...</td>\n",
       "      <td>...</td>\n",
       "      <td>non spécifié</td>\n",
       "      <td>non spécifié</td>\n",
       "      <td>non spécifié</td>\n",
       "      <td>non spécifié</td>\n",
       "      <td>non spécifié</td>\n",
       "      <td>non spécifié</td>\n",
       "      <td>non spécifié</td>\n",
       "      <td>non spécifié</td>\n",
       "      <td>2025-02-26</td>\n",
       "      <td>2025-02-26</td>\n",
       "    </tr>\n",
       "  </tbody>\n",
       "</table>\n",
       "<p>5 rows × 22 columns</p>\n",
       "</div>"
      ],
      "text/plain": [
       "   ID                                          Job Title Publishing Date  \\\n",
       "0   0  développeur full stack java  flutter confirmé ...      2025-02-26   \n",
       "1   1       consultant devops sénior  kubernetes grafana      2025-02-26   \n",
       "2   2  gestionnaire dapplication sénior  servicenow j...      2025-02-26   \n",
       "3   3       data scientist confirmé  servicenow bigquery      2025-02-26   \n",
       "4   4  développeur full stack java  vuejs gcp sénior ...      2025-02-26   \n",
       "\n",
       "  Start Date Salary Duration Location     Work Mode  \\\n",
       "0       asap    450  24 mois    lille  non spécifié   \n",
       "1       asap    500  12 mois    lille  non spécifié   \n",
       "2       asap    470  12 mois    lille  non spécifié   \n",
       "3       asap    450  24 mois    lille  non spécifié   \n",
       "4       asap    450  24 mois    lille  non spécifié   \n",
       "\n",
       "                                     Skills  \\\n",
       "0            java, flutter, kubernetes, tdd   \n",
       "1              kubernetes, grafana, datadog   \n",
       "2                    servicenow, javascript   \n",
       "3  servicenow, bigquery, data visualization   \n",
       "4                         java, vue.js, gcp   \n",
       "\n",
       "                                         Description  ...  Company Name  \\\n",
       "0  nous sommes é la recherche dun développeur ful...  ...  non spécifié   \n",
       "1  nou sommes é la recherche din consultant devop...  ...  non spécifié   \n",
       "2  nous sommes é la recherche dun gestionnaire da...  ...  non spécifié   \n",
       "3  nous sommes é la recherche dun data scientist ...  ...  non spécifié   \n",
       "4  nous sommes é la recherche dun développeur ful...  ...  non spécifié   \n",
       "\n",
       "  Number of Candidates Number of Employees        Sector Description E  \\\n",
       "0         non spécifié        non spécifié  non spécifié  non spécifié   \n",
       "1         non spécifié        non spécifié  non spécifié  non spécifié   \n",
       "2         non spécifié        non spécifié  non spécifié  non spécifié   \n",
       "3         non spécifié        non spécifié  non spécifié  non spécifié   \n",
       "4         non spécifié        non spécifié  non spécifié  non spécifié   \n",
       "\n",
       "     Experience Contract Type     Education scrap_date_parsed estm_publishdate  \n",
       "0  non spécifié  non spécifié  non spécifié        2025-02-26       2025-02-26  \n",
       "1  non spécifié  non spécifié  non spécifié        2025-02-26       2025-02-26  \n",
       "2  non spécifié  non spécifié  non spécifié        2025-02-26       2025-02-26  \n",
       "3  non spécifié  non spécifié  non spécifié        2025-02-26       2025-02-26  \n",
       "4  non spécifié  non spécifié  non spécifié        2025-02-26       2025-02-26  \n",
       "\n",
       "[5 rows x 22 columns]"
      ]
     },
     "execution_count": 5,
     "metadata": {},
     "output_type": "execute_result"
    }
   ],
   "source": [
    "data.head()"
   ]
  },
  {
   "cell_type": "code",
   "execution_count": 6,
   "id": "c7ae47a2",
   "metadata": {},
   "outputs": [
    {
     "name": "stdout",
     "output_type": "stream",
     "text": [
      "<class 'pandas.core.frame.DataFrame'>\n",
      "RangeIndex: 16468 entries, 0 to 16467\n",
      "Data columns (total 22 columns):\n",
      " #   Column                Non-Null Count  Dtype \n",
      "---  ------                --------------  ----- \n",
      " 0   ID                    16468 non-null  int64 \n",
      " 1   Job Title             16468 non-null  object\n",
      " 2   Publishing Date       16468 non-null  object\n",
      " 3   Start Date            16468 non-null  object\n",
      " 4   Salary                16468 non-null  object\n",
      " 5   Duration              16468 non-null  object\n",
      " 6   Location              16468 non-null  object\n",
      " 7   Work Mode             16468 non-null  object\n",
      " 8   Skills                16468 non-null  object\n",
      " 9   Description           16468 non-null  object\n",
      " 10  Plateforme            16468 non-null  object\n",
      " 11  Scrap Date            16468 non-null  object\n",
      " 12  Company Name          16468 non-null  object\n",
      " 13  Number of Candidates  16468 non-null  object\n",
      " 14  Number of Employees   16468 non-null  object\n",
      " 15  Sector                16468 non-null  object\n",
      " 16  Description E         16468 non-null  object\n",
      " 17  Experience            16468 non-null  object\n",
      " 18  Contract Type         16468 non-null  object\n",
      " 19  Education             16468 non-null  object\n",
      " 20  scrap_date_parsed     16468 non-null  object\n",
      " 21  estm_publishdate      16078 non-null  object\n",
      "dtypes: int64(1), object(21)\n",
      "memory usage: 2.8+ MB\n"
     ]
    }
   ],
   "source": [
    "data.info()"
   ]
  },
  {
   "cell_type": "code",
   "execution_count": 7,
   "id": "6d9e03d3",
   "metadata": {},
   "outputs": [
    {
     "data": {
      "text/plain": [
       "Education\n",
       "non spécifié        14602\n",
       " bac +5 / master      999\n",
       " bac +2               455\n",
       " bac +4               214\n",
       " bac +3               197\n",
       " cap                    1\n",
       "Name: count, dtype: int64"
      ]
     },
     "execution_count": 7,
     "metadata": {},
     "output_type": "execute_result"
    }
   ],
   "source": [
    "data[\"Education\"].value_counts()\n"
   ]
  },
  {
   "cell_type": "code",
   "execution_count": 8,
   "id": "1ca156ac",
   "metadata": {},
   "outputs": [],
   "source": [
    "from sklearn.preprocessing import OneHotEncoder\n",
    "\n",
    "# Make sure education is string type\n",
    "data['Education'] = data['Education'].astype(str)\n",
    "\n",
    "# Reshape and encode\n",
    "edu_encoder = OneHotEncoder(sparse_output=True, handle_unknown='ignore')\n",
    "encoded_education = edu_encoder.fit_transform(data['Education'].values.reshape(-1, 1))\n"
   ]
  },
  {
   "cell_type": "code",
   "execution_count": 9,
   "id": "035f5307",
   "metadata": {},
   "outputs": [
    {
     "name": "stdout",
     "output_type": "stream",
     "text": [
      "(16468, 6)\n",
      "[[0. 0. 0. 0. 0. 1.]\n",
      " [0. 0. 0. 0. 0. 1.]\n",
      " [0. 0. 0. 0. 0. 1.]\n",
      " ...\n",
      " [0. 0. 0. 0. 0. 1.]\n",
      " [0. 0. 0. 0. 0. 1.]\n",
      " [0. 0. 0. 0. 0. 1.]]\n"
     ]
    }
   ],
   "source": [
    "print(encoded_education.shape)  # (n_samples, n_unique_education_levels)\n",
    "print(encoded_education.toarray())  # Only for small datasets\n"
   ]
  },
  {
   "cell_type": "code",
   "execution_count": 10,
   "id": "e738c44f",
   "metadata": {},
   "outputs": [],
   "source": [
    "# Replace NaT with a fixed datetime value (e.g., Jan 1, 2000)\n",
    "data['estm_publishdate'] = data['estm_publishdate'].fillna(pd.Timestamp('2025-01-01'))\n",
    "\n",
    "\n"
   ]
  },
  {
   "cell_type": "code",
   "execution_count": 11,
   "id": "20539115",
   "metadata": {},
   "outputs": [
    {
     "name": "stdout",
     "output_type": "stream",
     "text": [
      "<class 'pandas.core.frame.DataFrame'>\n",
      "RangeIndex: 16468 entries, 0 to 16467\n",
      "Data columns (total 22 columns):\n",
      " #   Column                Non-Null Count  Dtype \n",
      "---  ------                --------------  ----- \n",
      " 0   ID                    16468 non-null  int64 \n",
      " 1   Job Title             16468 non-null  object\n",
      " 2   Publishing Date       16468 non-null  object\n",
      " 3   Start Date            16468 non-null  object\n",
      " 4   Salary                16468 non-null  object\n",
      " 5   Duration              16468 non-null  object\n",
      " 6   Location              16468 non-null  object\n",
      " 7   Work Mode             16468 non-null  object\n",
      " 8   Skills                16468 non-null  object\n",
      " 9   Description           16468 non-null  object\n",
      " 10  Plateforme            16468 non-null  object\n",
      " 11  Scrap Date            16468 non-null  object\n",
      " 12  Company Name          16468 non-null  object\n",
      " 13  Number of Candidates  16468 non-null  object\n",
      " 14  Number of Employees   16468 non-null  object\n",
      " 15  Sector                16468 non-null  object\n",
      " 16  Description E         16468 non-null  object\n",
      " 17  Experience            16468 non-null  object\n",
      " 18  Contract Type         16468 non-null  object\n",
      " 19  Education             16468 non-null  object\n",
      " 20  scrap_date_parsed     16468 non-null  object\n",
      " 21  estm_publishdate      16468 non-null  object\n",
      "dtypes: int64(1), object(21)\n",
      "memory usage: 2.8+ MB\n"
     ]
    }
   ],
   "source": [
    "data.info()"
   ]
  },
  {
   "cell_type": "code",
   "execution_count": 12,
   "id": "1855a7cd",
   "metadata": {},
   "outputs": [
    {
     "data": {
      "text/plain": [
       "Work Mode\n",
       "télétravail partiel                                                 5706\n",
       "non spécifié                                                        1943\n",
       "télétravail fréquent                                                1378\n",
       "télétravail non autorisé                                            1369\n",
       "sur site temps plein cadre                                           650\n",
       "                                                                    ... \n",
       "30 €k/an - 35 €k/an hybride temps plein confirmé                       1\n",
       "35 €k/an - 45 €k/an hybride temps plein premier emploi                 1\n",
       "38 €k/an - 48 €k/an sur site temps plein cadre                         1\n",
       "842 €/mois - 2 158 €/mois sur site contrat stagiaire / alternant       1\n",
       "50 $us/h à distance temps plein confirmé                               1\n",
       "Name: count, Length: 284, dtype: int64"
      ]
     },
     "execution_count": 12,
     "metadata": {},
     "output_type": "execute_result"
    }
   ],
   "source": [
    "data[\"Work Mode\"].value_counts()\n"
   ]
  },
  {
   "cell_type": "code",
   "execution_count": 13,
   "id": "53a5c6b2",
   "metadata": {},
   "outputs": [],
   "source": [
    "try:\n",
    "    from sklearn.impute import SimpleImputer # Scikit-Learn 0.20+\n",
    "except ImportError:\n",
    "    from sklearn.preprocessing import Imputer as SimpleImputer\n",
    "\n",
    "imputer = SimpleImputer(strategy=\"median\")\n"
   ]
  },
  {
   "cell_type": "code",
   "execution_count": 14,
   "id": "3eb3f99a",
   "metadata": {},
   "outputs": [],
   "source": [
    "data_num = data.drop('estm_publishdate', axis=1)"
   ]
  },
  {
   "cell_type": "code",
   "execution_count": 15,
   "id": "d64de467",
   "metadata": {},
   "outputs": [
    {
     "ename": "ValueError",
     "evalue": "Cannot use median strategy with non-numeric data:\ncould not convert string to float: 'développeur full stack java  flutter confirmé  java flutter'",
     "output_type": "error",
     "traceback": [
      "\u001b[1;31m---------------------------------------------------------------------------\u001b[0m",
      "\u001b[1;31mValueError\u001b[0m                                Traceback (most recent call last)",
      "Cell \u001b[1;32mIn[15], line 1\u001b[0m\n\u001b[1;32m----> 1\u001b[0m \u001b[43mimputer\u001b[49m\u001b[38;5;241;43m.\u001b[39;49m\u001b[43mfit\u001b[49m\u001b[43m(\u001b[49m\u001b[43mdata_num\u001b[49m\u001b[43m)\u001b[49m\n",
      "File \u001b[1;32m~\\AppData\\Roaming\\Python\\Python312\\site-packages\\sklearn\\base.py:1473\u001b[0m, in \u001b[0;36m_fit_context.<locals>.decorator.<locals>.wrapper\u001b[1;34m(estimator, *args, **kwargs)\u001b[0m\n\u001b[0;32m   1466\u001b[0m     estimator\u001b[38;5;241m.\u001b[39m_validate_params()\n\u001b[0;32m   1468\u001b[0m \u001b[38;5;28;01mwith\u001b[39;00m config_context(\n\u001b[0;32m   1469\u001b[0m     skip_parameter_validation\u001b[38;5;241m=\u001b[39m(\n\u001b[0;32m   1470\u001b[0m         prefer_skip_nested_validation \u001b[38;5;129;01mor\u001b[39;00m global_skip_validation\n\u001b[0;32m   1471\u001b[0m     )\n\u001b[0;32m   1472\u001b[0m ):\n\u001b[1;32m-> 1473\u001b[0m     \u001b[38;5;28;01mreturn\u001b[39;00m \u001b[43mfit_method\u001b[49m\u001b[43m(\u001b[49m\u001b[43mestimator\u001b[49m\u001b[43m,\u001b[49m\u001b[43m \u001b[49m\u001b[38;5;241;43m*\u001b[39;49m\u001b[43margs\u001b[49m\u001b[43m,\u001b[49m\u001b[43m \u001b[49m\u001b[38;5;241;43m*\u001b[39;49m\u001b[38;5;241;43m*\u001b[39;49m\u001b[43mkwargs\u001b[49m\u001b[43m)\u001b[49m\n",
      "File \u001b[1;32m~\\AppData\\Roaming\\Python\\Python312\\site-packages\\sklearn\\impute\\_base.py:421\u001b[0m, in \u001b[0;36mSimpleImputer.fit\u001b[1;34m(self, X, y)\u001b[0m\n\u001b[0;32m    403\u001b[0m \u001b[38;5;129m@_fit_context\u001b[39m(prefer_skip_nested_validation\u001b[38;5;241m=\u001b[39m\u001b[38;5;28;01mTrue\u001b[39;00m)\n\u001b[0;32m    404\u001b[0m \u001b[38;5;28;01mdef\u001b[39;00m\u001b[38;5;250m \u001b[39m\u001b[38;5;21mfit\u001b[39m(\u001b[38;5;28mself\u001b[39m, X, y\u001b[38;5;241m=\u001b[39m\u001b[38;5;28;01mNone\u001b[39;00m):\n\u001b[0;32m    405\u001b[0m \u001b[38;5;250m    \u001b[39m\u001b[38;5;124;03m\"\"\"Fit the imputer on `X`.\u001b[39;00m\n\u001b[0;32m    406\u001b[0m \n\u001b[0;32m    407\u001b[0m \u001b[38;5;124;03m    Parameters\u001b[39;00m\n\u001b[1;32m   (...)\u001b[0m\n\u001b[0;32m    419\u001b[0m \u001b[38;5;124;03m        Fitted estimator.\u001b[39;00m\n\u001b[0;32m    420\u001b[0m \u001b[38;5;124;03m    \"\"\"\u001b[39;00m\n\u001b[1;32m--> 421\u001b[0m     X \u001b[38;5;241m=\u001b[39m \u001b[38;5;28;43mself\u001b[39;49m\u001b[38;5;241;43m.\u001b[39;49m\u001b[43m_validate_input\u001b[49m\u001b[43m(\u001b[49m\u001b[43mX\u001b[49m\u001b[43m,\u001b[49m\u001b[43m \u001b[49m\u001b[43min_fit\u001b[49m\u001b[38;5;241;43m=\u001b[39;49m\u001b[38;5;28;43;01mTrue\u001b[39;49;00m\u001b[43m)\u001b[49m\n\u001b[0;32m    423\u001b[0m     \u001b[38;5;66;03m# default fill_value is 0 for numerical input and \"missing_value\"\u001b[39;00m\n\u001b[0;32m    424\u001b[0m     \u001b[38;5;66;03m# otherwise\u001b[39;00m\n\u001b[0;32m    425\u001b[0m     \u001b[38;5;28;01mif\u001b[39;00m \u001b[38;5;28mself\u001b[39m\u001b[38;5;241m.\u001b[39mfill_value \u001b[38;5;129;01mis\u001b[39;00m \u001b[38;5;28;01mNone\u001b[39;00m:\n",
      "File \u001b[1;32m~\\AppData\\Roaming\\Python\\Python312\\site-packages\\sklearn\\impute\\_base.py:348\u001b[0m, in \u001b[0;36mSimpleImputer._validate_input\u001b[1;34m(self, X, in_fit)\u001b[0m\n\u001b[0;32m    342\u001b[0m \u001b[38;5;28;01mif\u001b[39;00m \u001b[38;5;124m\"\u001b[39m\u001b[38;5;124mcould not convert\u001b[39m\u001b[38;5;124m\"\u001b[39m \u001b[38;5;129;01min\u001b[39;00m \u001b[38;5;28mstr\u001b[39m(ve):\n\u001b[0;32m    343\u001b[0m     new_ve \u001b[38;5;241m=\u001b[39m \u001b[38;5;167;01mValueError\u001b[39;00m(\n\u001b[0;32m    344\u001b[0m         \u001b[38;5;124m\"\u001b[39m\u001b[38;5;124mCannot use \u001b[39m\u001b[38;5;132;01m{}\u001b[39;00m\u001b[38;5;124m strategy with non-numeric data:\u001b[39m\u001b[38;5;130;01m\\n\u001b[39;00m\u001b[38;5;132;01m{}\u001b[39;00m\u001b[38;5;124m\"\u001b[39m\u001b[38;5;241m.\u001b[39mformat(\n\u001b[0;32m    345\u001b[0m             \u001b[38;5;28mself\u001b[39m\u001b[38;5;241m.\u001b[39mstrategy, ve\n\u001b[0;32m    346\u001b[0m         )\n\u001b[0;32m    347\u001b[0m     )\n\u001b[1;32m--> 348\u001b[0m     \u001b[38;5;28;01mraise\u001b[39;00m new_ve \u001b[38;5;28;01mfrom\u001b[39;00m\u001b[38;5;250m \u001b[39m\u001b[38;5;28;01mNone\u001b[39;00m\n\u001b[0;32m    349\u001b[0m \u001b[38;5;28;01melse\u001b[39;00m:\n\u001b[0;32m    350\u001b[0m     \u001b[38;5;28;01mraise\u001b[39;00m ve\n",
      "\u001b[1;31mValueError\u001b[0m: Cannot use median strategy with non-numeric data:\ncould not convert string to float: 'développeur full stack java  flutter confirmé  java flutter'"
     ]
    }
   ],
   "source": [
    "imputer.fit(data_num)"
   ]
  },
  {
   "cell_type": "code",
   "execution_count": null,
   "id": "aad6ecd4",
   "metadata": {},
   "outputs": [
    {
     "name": "stdout",
     "output_type": "stream",
     "text": [
      "Train size: 11528\n",
      "Validation size: 2470\n",
      "Test size: 2470\n"
     ]
    }
   ],
   "source": [
    "import numpy as np\n",
    "\n",
    "def split_train_val_test(data, val_ratio=0.1, test_ratio=0.1):\n",
    "    \n",
    "    \n",
    "    # Shuffle indices\n",
    "    shuffled_indices = np.random.permutation(len(data))\n",
    "    \n",
    "    # Calculate sizes\n",
    "    test_set_size = int(len(data) * test_ratio)\n",
    "    val_set_size = int(len(data) * val_ratio)\n",
    "    \n",
    "    # Indices\n",
    "    test_indices = shuffled_indices[:test_set_size]\n",
    "    val_indices = shuffled_indices[test_set_size:test_set_size + val_set_size]\n",
    "    train_indices = shuffled_indices[test_set_size + val_set_size:]\n",
    "    \n",
    "    # Return splits\n",
    "    return (\n",
    "        data.iloc[train_indices].reset_index(drop=True),\n",
    "        data.iloc[val_indices].reset_index(drop=True),\n",
    "        data.iloc[test_indices].reset_index(drop=True)\n",
    "    )\n",
    "\n",
    "train_set, val_set, test_set = split_train_val_test(data, val_ratio=0.15, test_ratio=0.15)\n",
    "\n",
    "print(\"Train size:\", len(train_set))\n",
    "print(\"Validation size:\", len(val_set))\n",
    "print(\"Test size:\", len(test_set))\n"
   ]
  },
  {
   "cell_type": "code",
   "execution_count": null,
   "id": "9a0f3f52",
   "metadata": {},
   "outputs": [
    {
     "data": {
      "text/html": [
       "<div>\n",
       "<style scoped>\n",
       "    .dataframe tbody tr th:only-of-type {\n",
       "        vertical-align: middle;\n",
       "    }\n",
       "\n",
       "    .dataframe tbody tr th {\n",
       "        vertical-align: top;\n",
       "    }\n",
       "\n",
       "    .dataframe thead th {\n",
       "        text-align: right;\n",
       "    }\n",
       "</style>\n",
       "<table border=\"1\" class=\"dataframe\">\n",
       "  <thead>\n",
       "    <tr style=\"text-align: right;\">\n",
       "      <th></th>\n",
       "      <th>Education</th>\n",
       "    </tr>\n",
       "  </thead>\n",
       "  <tbody>\n",
       "    <tr>\n",
       "      <th>0</th>\n",
       "      <td>non spécifié</td>\n",
       "    </tr>\n",
       "    <tr>\n",
       "      <th>1</th>\n",
       "      <td>non spécifié</td>\n",
       "    </tr>\n",
       "    <tr>\n",
       "      <th>2</th>\n",
       "      <td>non spécifié</td>\n",
       "    </tr>\n",
       "    <tr>\n",
       "      <th>3</th>\n",
       "      <td>non spécifié</td>\n",
       "    </tr>\n",
       "    <tr>\n",
       "      <th>4</th>\n",
       "      <td>non spécifié</td>\n",
       "    </tr>\n",
       "    <tr>\n",
       "      <th>5</th>\n",
       "      <td>non spécifié</td>\n",
       "    </tr>\n",
       "    <tr>\n",
       "      <th>6</th>\n",
       "      <td>non spécifié</td>\n",
       "    </tr>\n",
       "    <tr>\n",
       "      <th>7</th>\n",
       "      <td>non spécifié</td>\n",
       "    </tr>\n",
       "    <tr>\n",
       "      <th>8</th>\n",
       "      <td>non spécifié</td>\n",
       "    </tr>\n",
       "    <tr>\n",
       "      <th>9</th>\n",
       "      <td>non spécifié</td>\n",
       "    </tr>\n",
       "  </tbody>\n",
       "</table>\n",
       "</div>"
      ],
      "text/plain": [
       "      Education\n",
       "0  non spécifié\n",
       "1  non spécifié\n",
       "2  non spécifié\n",
       "3  non spécifié\n",
       "4  non spécifié\n",
       "5  non spécifié\n",
       "6  non spécifié\n",
       "7  non spécifié\n",
       "8  non spécifié\n",
       "9  non spécifié"
      ]
     },
     "execution_count": 50,
     "metadata": {},
     "output_type": "execute_result"
    }
   ],
   "source": [
    "data_cat = data[['Education']]\n",
    "data_cat.head(10)\n",
    "\n"
   ]
  },
  {
   "cell_type": "code",
   "execution_count": null,
   "id": "871c6108",
   "metadata": {},
   "outputs": [
    {
     "data": {
      "text/plain": [
       "<Compressed Sparse Row sparse matrix of dtype 'float64'\n",
       "\twith 16468 stored elements and shape (16468, 6)>"
      ]
     },
     "execution_count": 51,
     "metadata": {},
     "output_type": "execute_result"
    }
   ],
   "source": [
    "try:\n",
    "    from sklearn.preprocessing import OrdinalEncoder # just to raise an ImportError if Scikit-Learn < 0.20\n",
    "    from sklearn.preprocessing import OneHotEncoder\n",
    "except ImportError:\n",
    "    from future_encoders import OneHotEncoder # Scikit-Learn < 0.20\n",
    "\n",
    "education_encoder = OneHotEncoder()\n",
    "data_education_1hot = education_encoder.fit_transform(data_cat)\n",
    "data_education_1hot"
   ]
  },
  {
   "cell_type": "code",
   "execution_count": null,
   "id": "65a966a2",
   "metadata": {},
   "outputs": [
    {
     "data": {
      "text/plain": [
       "[array([' bac +2', ' bac +3', ' bac +4', ' bac +5 / master', ' cap',\n",
       "        'non spécifié'], dtype=object)]"
      ]
     },
     "execution_count": 54,
     "metadata": {},
     "output_type": "execute_result"
    }
   ],
   "source": [
    "ordinal_encoder = OrdinalEncoder()\n",
    "data_cat_encoded = ordinal_encoder.fit_transform(data_cat)\n",
    "data_cat_encoded[:10]\n"
   ]
  },
  {
   "cell_type": "code",
   "execution_count": null,
   "id": "bbd386d1",
   "metadata": {},
   "outputs": [
    {
     "name": "stdout",
     "output_type": "stream",
     "text": [
      "<class 'pandas.core.frame.DataFrame'>\n",
      "RangeIndex: 16468 entries, 0 to 16467\n",
      "Data columns (total 22 columns):\n",
      " #   Column                Non-Null Count  Dtype \n",
      "---  ------                --------------  ----- \n",
      " 0   ID                    16468 non-null  int64 \n",
      " 1   Job Title             16468 non-null  object\n",
      " 2   Publishing Date       16468 non-null  object\n",
      " 3   Start Date            16468 non-null  object\n",
      " 4   Salary                16468 non-null  object\n",
      " 5   Duration              16468 non-null  object\n",
      " 6   Location              16468 non-null  object\n",
      " 7   Work Mode             16468 non-null  object\n",
      " 8   Skills                16468 non-null  object\n",
      " 9   Description           16468 non-null  object\n",
      " 10  Plateforme            16468 non-null  object\n",
      " 11  Scrap Date            16468 non-null  object\n",
      " 12  Company Name          16468 non-null  object\n",
      " 13  Number of Candidates  16468 non-null  object\n",
      " 14  Number of Employees   16468 non-null  object\n",
      " 15  Sector                16468 non-null  object\n",
      " 16  Description E         16468 non-null  object\n",
      " 17  Experience            16468 non-null  object\n",
      " 18  Contract Type         16468 non-null  object\n",
      " 19  Education             16468 non-null  object\n",
      " 20  scrap_date_parsed     16468 non-null  object\n",
      " 21  estm_publishdate      16078 non-null  object\n",
      "dtypes: int64(1), object(21)\n",
      "memory usage: 2.8+ MB\n"
     ]
    }
   ],
   "source": [
    "data.info()"
   ]
  },
  {
   "cell_type": "code",
   "execution_count": null,
   "id": "ff3a6a9c",
   "metadata": {},
   "outputs": [
    {
     "data": {
      "text/plain": [
       "array([[0., 0., 0., 0., 0., 1.],\n",
       "       [0., 0., 0., 0., 0., 1.],\n",
       "       [0., 0., 0., 0., 0., 1.],\n",
       "       ...,\n",
       "       [0., 0., 0., 0., 0., 1.],\n",
       "       [0., 0., 0., 0., 0., 1.],\n",
       "       [0., 0., 0., 0., 0., 1.]])"
      ]
     },
     "execution_count": 56,
     "metadata": {},
     "output_type": "execute_result"
    }
   ],
   "source": [
    "data_education_1hot.toarray()"
   ]
  },
  {
   "cell_type": "code",
   "execution_count": null,
   "id": "283c49eb",
   "metadata": {},
   "outputs": [
    {
     "name": "stderr",
     "output_type": "stream",
     "text": [
      "C:\\Users\\ahmed\\AppData\\Local\\Temp\\ipykernel_13956\\3893840823.py:4: FutureWarning: A value is trying to be set on a copy of a DataFrame or Series through chained assignment using an inplace method.\n",
      "The behavior will change in pandas 3.0. This inplace method will never work because the intermediate object on which we are setting values always behaves as a copy.\n",
      "\n",
      "For example, when doing 'df[col].method(value, inplace=True)', try using 'df.method({col: value}, inplace=True)' or df[col] = df[col].method(value) instead, to perform the operation inplace on the original object.\n",
      "\n",
      "\n",
      "  data['estm_publishdate'].fillna(median_date, inplace=True)\n",
      "C:\\Users\\ahmed\\AppData\\Local\\Temp\\ipykernel_13956\\3893840823.py:8: UserWarning: Could not infer format, so each element will be parsed individually, falling back to `dateutil`. To ensure parsing is consistent and as-expected, please specify a format.\n",
      "  data[col] = pd.to_datetime(data[col], errors='coerce')\n",
      "C:\\Users\\ahmed\\AppData\\Local\\Temp\\ipykernel_13956\\3893840823.py:8: UserWarning: Parsing dates in %d-%m-%Y format when dayfirst=False (the default) was specified. Pass `dayfirst=True` or specify a format to silence this warning.\n",
      "  data[col] = pd.to_datetime(data[col], errors='coerce')\n"
     ]
    }
   ],
   "source": [
    "data['estm_publishdate'] = pd.to_datetime(data['estm_publishdate'], errors='coerce')\n",
    "\n",
    "median_date = data['estm_publishdate'].median()\n",
    "data['estm_publishdate'].fillna(median_date, inplace=True)\n",
    "\n",
    "date_cols = ['Publishing Date', 'Start Date', 'Scrap Date', 'scrap_date_parsed']\n",
    "for col in date_cols:\n",
    "    data[col] = pd.to_datetime(data[col], errors='coerce')"
   ]
  },
  {
   "cell_type": "code",
   "execution_count": null,
   "id": "a56deac1",
   "metadata": {},
   "outputs": [
    {
     "ename": "ModuleNotFoundError",
     "evalue": "No module named 'seaborn'",
     "output_type": "error",
     "traceback": [
      "\u001b[1;31m---------------------------------------------------------------------------\u001b[0m",
      "\u001b[1;31mModuleNotFoundError\u001b[0m                       Traceback (most recent call last)",
      "Cell \u001b[1;32mIn[65], line 1\u001b[0m\n\u001b[1;32m----> 1\u001b[0m \u001b[38;5;28;01mimport\u001b[39;00m\u001b[38;5;250m \u001b[39m\u001b[38;5;21;01mseaborn\u001b[39;00m\u001b[38;5;250m \u001b[39m\u001b[38;5;28;01mas\u001b[39;00m\u001b[38;5;250m \u001b[39m\u001b[38;5;21;01msns\u001b[39;00m\n\u001b[0;32m      2\u001b[0m plt\u001b[38;5;241m.\u001b[39mfigure(figsize\u001b[38;5;241m=\u001b[39m(\u001b[38;5;241m10\u001b[39m, \u001b[38;5;241m6\u001b[39m))\n\u001b[0;32m      3\u001b[0m sns\u001b[38;5;241m.\u001b[39mhistplot(df[\u001b[38;5;124m'\u001b[39m\u001b[38;5;124msalary_numeric\u001b[39m\u001b[38;5;124m'\u001b[39m], bins\u001b[38;5;241m=\u001b[39m\u001b[38;5;241m50\u001b[39m)\n",
      "\u001b[1;31mModuleNotFoundError\u001b[0m: No module named 'seaborn'"
     ]
    }
   ],
   "source": [
    "plt.figure(figsize=(10, 6))\n",
    "sns.histplot(df['salary_numeric'], bins=50)\n",
    "plt.title('Processed Salary Distribution')\n",
    "plt.xlabel('Salary')\n",
    "plt.ylabel('Count')\n",
    "plt.show()"
   ]
  }
 ],
 "metadata": {
  "kernelspec": {
   "display_name": "Python 3",
   "language": "python",
   "name": "python3"
  },
  "language_info": {
   "codemirror_mode": {
    "name": "ipython",
    "version": 3
   },
   "file_extension": ".py",
   "mimetype": "text/x-python",
   "name": "python",
   "nbconvert_exporter": "python",
   "pygments_lexer": "ipython3",
   "version": "3.12.6"
  }
 },
 "nbformat": 4,
 "nbformat_minor": 5
}
